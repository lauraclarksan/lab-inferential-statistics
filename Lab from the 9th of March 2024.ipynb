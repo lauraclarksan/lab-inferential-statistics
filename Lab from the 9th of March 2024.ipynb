{
 "cells": [
  {
   "cell_type": "markdown",
   "id": "83dd974a-08e0-4d08-9351-24065d35d126",
   "metadata": {},
   "source": [
    "**Instructions**\n",
    "\n",
    "1. It is assumed that the mean systolic blood pressure is μ = 120 mm Hg. In the Honolulu Heart Study, a sample of n = 100 people had an average systolic blood pressure of 130.1 mm Hg with a standard deviation of 21.21 mm Hg. Is the group significantly different (with respect to systolic blood pressure!) from the regular population?\n",
    "\n",
    "- Set up the hypothesis test.\n",
    "- Write down all the steps followed for setting up the test.\n",
    "- Calculate the test statistic by hand and also code it in Python. It should be 4.76190. We will take a look at how to make decisions based on this calculated value."
   ]
  },
  {
   "cell_type": "markdown",
   "id": "7ae08912-971a-4a9a-a1fe-3a2e0f2268d7",
   "metadata": {},
   "source": [
    "**Hypothesis test**\n",
    "\n",
    "H0: μ = 120\n",
    "H1: μ ≠ 120\n",
    "α = 0.05."
   ]
  },
  {
   "cell_type": "markdown",
   "id": "328e46df-ca6c-4ef6-a36f-fe773fe78f3f",
   "metadata": {},
   "source": [
    "**Steps**\n",
    "\n",
    "1. Calculate the Z-score:\n",
    "- Z = (X̄ - μ) / (σ / √n)\n",
    "- X̄ = 130.1\n",
    "- μ = 120\n",
    "- σ = 21.21\n",
    "- n = 100\n",
    "\n",
    "2. Find the Critical Z-value:\n",
    "- We'll find the critical z-value corresponding to the chosen significance level (two-tailed test).\n",
    "\n",
    "4. Compare the Z-score with the Critical Z-value:\n",
    "- If the absolute value of the Z-score is greater than the critical z-value, we reject the null hypothesis.\n",
    "- If not, we fail to reject the null hypothesis."
   ]
  },
  {
   "cell_type": "code",
   "execution_count": 2,
   "id": "e629d73b-9950-4384-9640-df4756b2c8c7",
   "metadata": {},
   "outputs": [
    {
     "name": "stdout",
     "output_type": "stream",
     "text": [
      "4.761904761904759\n"
     ]
    }
   ],
   "source": [
    "import math \n",
    "\n",
    "X = 130.1\n",
    "mu = 120\n",
    "sigma = 21.21\n",
    "n = 100\n",
    "\n",
    "Z = (X - mu) / (sigma / math.sqrt(n))\n",
    "\n",
    "print(Z)"
   ]
  },
  {
   "cell_type": "code",
   "execution_count": null,
   "id": "f7cb3e6e-eccf-4f07-aea7-0e0b93b01674",
   "metadata": {},
   "outputs": [],
   "source": []
  }
 ],
 "metadata": {
  "kernelspec": {
   "display_name": "Python 3 (ipykernel)",
   "language": "python",
   "name": "python3"
  },
  "language_info": {
   "codemirror_mode": {
    "name": "ipython",
    "version": 3
   },
   "file_extension": ".py",
   "mimetype": "text/x-python",
   "name": "python",
   "nbconvert_exporter": "python",
   "pygments_lexer": "ipython3",
   "version": "3.11.7"
  }
 },
 "nbformat": 4,
 "nbformat_minor": 5
}
